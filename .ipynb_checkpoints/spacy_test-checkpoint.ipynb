{
 "cells": [
  {
   "cell_type": "code",
   "execution_count": 70,
   "metadata": {},
   "outputs": [],
   "source": [
    "import spacy\n",
    "from spacy import displacy\n",
    "from train_3 import preprocess"
   ]
  },
  {
   "cell_type": "code",
   "execution_count": 71,
   "metadata": {},
   "outputs": [
    {
     "data": {
      "text/html": [
       "<div class=\"entities\" style=\"line-height: 2.5\">benzoyl peroxide was first made in and came into medical use in the s it is on the world health organization s list of essential medicines the most effective and safe medicines needed in a health system benzoyl peroxide is available as a generic medication and over the counter in the united kingdom ml of a solution costs the nhs about in the united states a month of treatment costs less than us benzoyl peroxide is effective for reducing the number and severity of acne lesions benzoyl peroxide has a bactericidal effect on propionibacterium acnes bacteria associated with acne and does not induce antibiotic resistance it may be combined with salicylic acid \n",
       "<mark class=\"entity\" style=\"background: #ddd; padding: 0.45em 0.6em; margin: 0 0.25em; line-height: 1; border-radius: 0.35em; box-decoration-break: clone; -webkit-box-decoration-break: clone\">\n",
       "    sulfur\n",
       "    <span style=\"font-size: 0.8em; font-weight: bold; line-height: 1; border-radius: 0.35em; text-transform: uppercase; vertical-align: middle; margin-left: 0.5rem\">CHEMICAL</span>\n",
       "</mark>\n",
       " erythromycin or clindamycin antibiotics or adapalene a synthetic retinoid two common combination drugs include benzoyl peroxide clindamycin and adapalene benzoyl peroxide an unusual formulation considering most retinoids are deactivated by peroxides combination products such as benzoyl peroxide clindamycin and benzoyl peroxide salicylic acid appear to be slightly more effective than benzoyl peroxide alone for the treatment of acne lesions </div>"
      ],
      "text/plain": [
       "<IPython.core.display.HTML object>"
      ]
     },
     "metadata": {},
     "output_type": "display_data"
    }
   ],
   "source": [
    "text = \"\"\"Benzoyl peroxide was first made in 1905 and came into medical use in the 1930s.[5] It is on the World Health Organization's List of Essential Medicines, the most effective and safe medicines needed in a health system.[10] Benzoyl peroxide is available as a generic medication and over the counter.[8] In the United Kingdom 150 ml of a 10% solution costs the NHS about £4.[4] In the United States a month of treatment costs less than US$25.[8] Benzoyl peroxide is effective for reducing the number and severity of acne lesions. Benzoyl peroxide has a bactericidal effect on Propionibacterium acnes bacteria associated with acne and does not induce antibiotic resistance.[12][13] It may be combined with salicylic acid, sulfur, erythromycin or clindamycin (antibiotics), or adapalene (a synthetic retinoid). Two common combination drugs include benzoyl peroxide/clindamycin and adapalene/benzoyl peroxide, an unusual formulation considering most retinoids are deactivated by peroxides. Combination products such as benzoyl peroxide/clindamycin and benzoyl peroxide/salicylic acid appear to be slightly more effective than benzoyl peroxide alone for the treatment of acne lesions.[13]\"\"\"\n",
    "nlp2 = spacy.load(\"model2/model-final\")\n",
    "doc2 = nlp2(preprocess(nlp2(text)))\n",
    "displacy.render(doc2, style='ent', jupyter=True)"
   ]
  },
  {
   "cell_type": "code",
   "execution_count": 39,
   "metadata": {},
   "outputs": [
    {
     "name": "stdout",
     "output_type": "stream",
     "text": [
      "Cadmium sulfide CHEMICAL 0 15\n"
     ]
    }
   ],
   "source": [
    "for ent in doc2.ents:\n",
    "    print(ent.text, ent.label_, ent.start_char, ent.end_char)"
   ]
  },
  {
   "cell_type": "code",
   "execution_count": null,
   "metadata": {},
   "outputs": [],
   "source": []
  }
 ],
 "metadata": {
  "kernelspec": {
   "display_name": "Python 3",
   "language": "python",
   "name": "python3"
  },
  "language_info": {
   "codemirror_mode": {
    "name": "ipython",
    "version": 3
   },
   "file_extension": ".py",
   "mimetype": "text/x-python",
   "name": "python",
   "nbconvert_exporter": "python",
   "pygments_lexer": "ipython3",
   "version": "3.5.5"
  }
 },
 "nbformat": 4,
 "nbformat_minor": 2
}
